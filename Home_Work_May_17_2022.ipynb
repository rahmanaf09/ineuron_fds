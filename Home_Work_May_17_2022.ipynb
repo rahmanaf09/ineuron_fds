{
 "cells": [
  {
   "cell_type": "markdown",
   "id": "94ef2acd",
   "metadata": {},
   "source": [
    "# Home Work"
   ]
  },
  {
   "cell_type": "code",
   "execution_count": 31,
   "id": "145a548d",
   "metadata": {},
   "outputs": [],
   "source": [
    "s = \"this is My First Python programming class and i am learNING python string and its function\""
   ]
  },
  {
   "cell_type": "markdown",
   "id": "63c84559",
   "metadata": {},
   "source": [
    "# "
   ]
  },
  {
   "cell_type": "raw",
   "id": "0b524147",
   "metadata": {},
   "source": [
    "1.Try to extract data from index one to index 300 with a jump of 3"
   ]
  },
  {
   "cell_type": "code",
   "execution_count": 5,
   "id": "5b099033",
   "metadata": {},
   "outputs": [
    {
     "data": {
      "text/plain": [
       "'h   r tnrrmglsnimeNGyosi dtfco'"
      ]
     },
     "execution_count": 5,
     "metadata": {},
     "output_type": "execute_result"
    }
   ],
   "source": [
    "s[1:300:3]"
   ]
  },
  {
   "cell_type": "markdown",
   "id": "ffa345de",
   "metadata": {},
   "source": [
    "# "
   ]
  },
  {
   "cell_type": "raw",
   "id": "5ab33dbd",
   "metadata": {},
   "source": [
    "2.Try to reverse a string without using reverse function"
   ]
  },
  {
   "cell_type": "code",
   "execution_count": 27,
   "id": "d0a25e63",
   "metadata": {},
   "outputs": [
    {
     "data": {
      "text/plain": [
       "'noitcnuf sti dna gnirts nohtyp GNINrael ma i dna ssalc gnimmargorp nohtyP tsriF yM si siht'"
      ]
     },
     "execution_count": 27,
     "metadata": {},
     "output_type": "execute_result"
    }
   ],
   "source": [
    "s[-1::-1]"
   ]
  },
  {
   "cell_type": "markdown",
   "id": "3e552284",
   "metadata": {},
   "source": [
    "# "
   ]
  },
  {
   "cell_type": "raw",
   "id": "df5c675c",
   "metadata": {},
   "source": [
    "3.Try to split a string after conversion of entire string in uppercase"
   ]
  },
  {
   "cell_type": "code",
   "execution_count": 29,
   "id": "084dddbe",
   "metadata": {},
   "outputs": [
    {
     "data": {
      "text/plain": [
       "['THIS',\n",
       " 'IS',\n",
       " 'MY',\n",
       " 'FIRST',\n",
       " 'PYTHON',\n",
       " 'PROGRAMMING',\n",
       " 'CLASS',\n",
       " 'AND',\n",
       " 'I',\n",
       " 'AM',\n",
       " 'LEARNING',\n",
       " 'PYTHON',\n",
       " 'STRING',\n",
       " 'AND',\n",
       " 'ITS',\n",
       " 'FUNCTION']"
      ]
     },
     "execution_count": 29,
     "metadata": {},
     "output_type": "execute_result"
    }
   ],
   "source": [
    "s.upper().split(\" \")"
   ]
  },
  {
   "cell_type": "markdown",
   "id": "d08f77b9",
   "metadata": {},
   "source": [
    "# "
   ]
  },
  {
   "cell_type": "raw",
   "id": "47cda6e4",
   "metadata": {},
   "source": [
    "4.try to convert the whole string into lower case"
   ]
  },
  {
   "cell_type": "code",
   "execution_count": 30,
   "id": "679b2b12",
   "metadata": {},
   "outputs": [
    {
     "data": {
      "text/plain": [
       "'this is my first python programming class and i am learning python string and its function'"
      ]
     },
     "execution_count": 30,
     "metadata": {},
     "output_type": "execute_result"
    }
   ],
   "source": [
    "s.lower()"
   ]
  },
  {
   "cell_type": "markdown",
   "id": "5dc46b0c",
   "metadata": {},
   "source": [
    "# "
   ]
  },
  {
   "cell_type": "raw",
   "id": "a01a26b0",
   "metadata": {},
   "source": [
    "5.Try to capitalize the whole string"
   ]
  },
  {
   "cell_type": "code",
   "execution_count": 33,
   "id": "23fcd618",
   "metadata": {},
   "outputs": [
    {
     "data": {
      "text/plain": [
       "'This is my first python programming class and i am learning python string and its function'"
      ]
     },
     "execution_count": 33,
     "metadata": {},
     "output_type": "execute_result"
    }
   ],
   "source": [
    "s.capitalize()"
   ]
  },
  {
   "cell_type": "markdown",
   "id": "42493406",
   "metadata": {},
   "source": [
    "# "
   ]
  },
  {
   "cell_type": "raw",
   "id": "f259c2fa",
   "metadata": {},
   "source": [
    "6.Write a diference between isalnum() and isalpha()"
   ]
  },
  {
   "cell_type": "raw",
   "id": "b995c9d6",
   "metadata": {},
   "source": [
    "Answer: s.isalnum() # it checks whether the data contains letters alphabetics without spaces and without special charachters and if the condition is met then it returns true, else false.\n",
    "\n",
    "s.isalpha() # if the string is set of charachters(letters) without spaces and special charachters then it returns true, if no then false."
   ]
  },
  {
   "cell_type": "markdown",
   "id": "91704ec6",
   "metadata": {},
   "source": [
    "# "
   ]
  },
  {
   "cell_type": "raw",
   "id": "59aeefab",
   "metadata": {},
   "source": [
    "7. Try to give an example of expand tab"
   ]
  },
  {
   "cell_type": "code",
   "execution_count": 89,
   "id": "d965ab35",
   "metadata": {},
   "outputs": [],
   "source": [
    "s1= \"this\\tis\\tmy\\tfirst\\texpand\\ttabs\\texercise\""
   ]
  },
  {
   "cell_type": "code",
   "execution_count": 91,
   "id": "9f97b6ac",
   "metadata": {},
   "outputs": [
    {
     "data": {
      "text/plain": [
       "'this  is  my  first expand  tabs  exercise'"
      ]
     },
     "execution_count": 91,
     "metadata": {},
     "output_type": "execute_result"
    }
   ],
   "source": [
    "s1.expandtabs(2)"
   ]
  },
  {
   "cell_type": "markdown",
   "id": "2eaa2b91",
   "metadata": {},
   "source": [
    "# "
   ]
  },
  {
   "cell_type": "raw",
   "id": "ae35f1e8",
   "metadata": {},
   "source": [
    "8.Give an example of strip , lstrip and rstrip"
   ]
  },
  {
   "cell_type": "code",
   "execution_count": 95,
   "id": "831eafda",
   "metadata": {},
   "outputs": [],
   "source": [
    "s2 = \"    This is my first strip exersice    \""
   ]
  },
  {
   "cell_type": "code",
   "execution_count": 96,
   "id": "fc1a9b70",
   "metadata": {},
   "outputs": [
    {
     "data": {
      "text/plain": [
       "'This is my first strip exersice'"
      ]
     },
     "execution_count": 96,
     "metadata": {},
     "output_type": "execute_result"
    }
   ],
   "source": [
    "s2.strip()"
   ]
  },
  {
   "cell_type": "code",
   "execution_count": 97,
   "id": "947e1e8f",
   "metadata": {},
   "outputs": [
    {
     "data": {
      "text/plain": [
       "'This is my first strip exersice    '"
      ]
     },
     "execution_count": 97,
     "metadata": {},
     "output_type": "execute_result"
    }
   ],
   "source": [
    "s2.lstrip()"
   ]
  },
  {
   "cell_type": "code",
   "execution_count": 98,
   "id": "a22f3842",
   "metadata": {},
   "outputs": [
    {
     "data": {
      "text/plain": [
       "'    This is my first strip exersice'"
      ]
     },
     "execution_count": 98,
     "metadata": {},
     "output_type": "execute_result"
    }
   ],
   "source": [
    "s2.rstrip()"
   ]
  },
  {
   "cell_type": "markdown",
   "id": "c0846325",
   "metadata": {},
   "source": [
    "# "
   ]
  },
  {
   "cell_type": "raw",
   "id": "6bf9c23a",
   "metadata": {},
   "source": [
    "9.Replace a string charecter by another charector by taking your own example"
   ]
  },
  {
   "cell_type": "code",
   "execution_count": 99,
   "id": "1e5f9554",
   "metadata": {},
   "outputs": [
    {
     "data": {
      "text/plain": [
       "'####This#is#my#first#strip#exersice####'"
      ]
     },
     "execution_count": 99,
     "metadata": {},
     "output_type": "execute_result"
    }
   ],
   "source": [
    "s2.replace(\" \", \"#\")"
   ]
  },
  {
   "cell_type": "markdown",
   "id": "68a2bc4d",
   "metadata": {},
   "source": [
    "# "
   ]
  },
  {
   "cell_type": "raw",
   "id": "94eac487",
   "metadata": {},
   "source": [
    "10.Try  to give a defination of string center function with and exmple"
   ]
  },
  {
   "cell_type": "code",
   "execution_count": 105,
   "id": "d949de9d",
   "metadata": {},
   "outputs": [],
   "source": [
    "s3=\" this is my first string centre exercise \""
   ]
  },
  {
   "cell_type": "code",
   "execution_count": 106,
   "id": "fd668991",
   "metadata": {},
   "outputs": [
    {
     "data": {
      "text/plain": [
       "'$$$$$$$$$$$$$$$$$$$$$$$$ this is my first string centre exercise $$$$$$$$$$$$$$$$$$$$$$$$$'"
      ]
     },
     "execution_count": 106,
     "metadata": {},
     "output_type": "execute_result"
    }
   ],
   "source": [
    "s3.center(90,\"$\")"
   ]
  },
  {
   "cell_type": "markdown",
   "id": "26e3f725",
   "metadata": {},
   "source": [
    "# "
   ]
  },
  {
   "cell_type": "raw",
   "id": "860ab9ca",
   "metadata": {},
   "source": [
    "11.Write your own definition of compiler and interpretor without copy paste form internet in your own language"
   ]
  },
  {
   "cell_type": "raw",
   "id": "dbca5e8c",
   "metadata": {},
   "source": [
    "to me Interpretor seems to be like a translator which translates all our instructions to the computer like a live translator and Compiler taking my instructions together and sends it to computer.\n"
   ]
  },
  {
   "cell_type": "markdown",
   "id": "f517e0b7",
   "metadata": {},
   "source": [
    "# "
   ]
  },
  {
   "cell_type": "raw",
   "id": "371b4e52",
   "metadata": {},
   "source": [
    "12.Python is a interpreted of compiled language give a clear ans with your understanding"
   ]
  },
  {
   "cell_type": "raw",
   "id": "7861e564",
   "metadata": {},
   "source": [
    "I am sorry, i have no idea about this, may be i think python is easy so it is interpreted languange, and C is compiled."
   ]
  },
  {
   "cell_type": "markdown",
   "id": "c7915e6b",
   "metadata": {},
   "source": [
    "# "
   ]
  },
  {
   "cell_type": "raw",
   "id": "ae182a2b",
   "metadata": {},
   "source": [
    "13.Try to write a usecase of python with your understanding"
   ]
  },
  {
   "cell_type": "raw",
   "id": "0049eb21",
   "metadata": {},
   "source": [
    "python is used in many differnt ways like used in automated driving cars like (Tesla) to the creation of virtual bots."
   ]
  },
  {
   "cell_type": "code",
   "execution_count": null,
   "id": "9146f002",
   "metadata": {},
   "outputs": [],
   "source": []
  },
  {
   "cell_type": "code",
   "execution_count": null,
   "id": "ee6043d6",
   "metadata": {},
   "outputs": [],
   "source": []
  }
 ],
 "metadata": {
  "kernelspec": {
   "display_name": "Python 3 (ipykernel)",
   "language": "python",
   "name": "python3"
  },
  "language_info": {
   "codemirror_mode": {
    "name": "ipython",
    "version": 3
   },
   "file_extension": ".py",
   "mimetype": "text/x-python",
   "name": "python",
   "nbconvert_exporter": "python",
   "pygments_lexer": "ipython3",
   "version": "3.9.7"
  }
 },
 "nbformat": 4,
 "nbformat_minor": 5
}
